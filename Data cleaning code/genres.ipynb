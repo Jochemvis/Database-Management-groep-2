{
 "cells": [
  {
   "cell_type": "markdown",
   "metadata": {},
   "source": [
    "Imports\n"
   ]
  },
  {
   "cell_type": "code",
   "execution_count": 108,
   "metadata": {},
   "outputs": [],
   "source": [
    "import pandas as pd"
   ]
  },
  {
   "cell_type": "markdown",
   "metadata": {},
   "source": [
    "Load data"
   ]
  },
  {
   "cell_type": "code",
   "execution_count": 186,
   "metadata": {},
   "outputs": [],
   "source": [
    "df1 = pd.read_excel(\"metaClean43Brightspace.xlsx\")\n",
    "df2 = pd.read_excel(\"sales.xlsx\")"
   ]
  },
  {
   "cell_type": "markdown",
   "metadata": {},
   "source": [
    "Remove duplicates and merge data"
   ]
  },
  {
   "cell_type": "code",
   "execution_count": 169,
   "metadata": {},
   "outputs": [
    {
     "data": {
      "text/plain": [
       "<bound method NDFrame.describe of 0       10 Cloverfield Lane\n",
       "1                  10 Years\n",
       "2          100 Bloody Acres\n",
       "3               100 Streets\n",
       "4                1001 Grams\n",
       "               ...         \n",
       "8120              Zookeeper\n",
       "8121              Zoolander\n",
       "8122            Zoolander 2\n",
       "8123                   Zoom\n",
       "8124               Zootopia\n",
       "Name: title, Length: 8125, dtype: object>"
      ]
     },
     "execution_count": 169,
     "metadata": {},
     "output_type": "execute_result"
    }
   ],
   "source": [
    "# Remove duplicates from df1 and df2\n",
    "df1 = df1.drop_duplicates(subset='title')\n",
    "df2 = df2.drop_duplicates(subset='title')\n",
    "\n",
    "# Merge the DataFrames\n",
    "merged_df = df1.merge(df2, on='title', how='inner')"
   ]
  },
  {
   "cell_type": "markdown",
   "metadata": {},
   "source": [
    "Keep needed features"
   ]
  },
  {
   "cell_type": "code",
   "execution_count": 170,
   "metadata": {},
   "outputs": [],
   "source": [
    "columns_to_keep = ['title', 'genre_x', 'genre_y']\n",
    "df = merged_df[columns_to_keep]"
   ]
  },
  {
   "cell_type": "markdown",
   "metadata": {},
   "source": [
    "Split genres in different columns"
   ]
  },
  {
   "cell_type": "code",
   "execution_count": 171,
   "metadata": {},
   "outputs": [
    {
     "name": "stderr",
     "output_type": "stream",
     "text": [
      "C:\\Users\\daanv\\AppData\\Local\\Temp\\ipykernel_10120\\3941831681.py:3: SettingWithCopyWarning: \n",
      "A value is trying to be set on a copy of a slice from a DataFrame.\n",
      "Try using .loc[row_indexer,col_indexer] = value instead\n",
      "\n",
      "See the caveats in the documentation: https://pandas.pydata.org/pandas-docs/stable/user_guide/indexing.html#returning-a-view-versus-a-copy\n",
      "  df['genre2'] = split_genres[0]\n",
      "C:\\Users\\daanv\\AppData\\Local\\Temp\\ipykernel_10120\\3941831681.py:4: SettingWithCopyWarning: \n",
      "A value is trying to be set on a copy of a slice from a DataFrame.\n",
      "Try using .loc[row_indexer,col_indexer] = value instead\n",
      "\n",
      "See the caveats in the documentation: https://pandas.pydata.org/pandas-docs/stable/user_guide/indexing.html#returning-a-view-versus-a-copy\n",
      "  df['genre3'] = split_genres[1]\n",
      "C:\\Users\\daanv\\AppData\\Local\\Temp\\ipykernel_10120\\3941831681.py:5: SettingWithCopyWarning: \n",
      "A value is trying to be set on a copy of a slice from a DataFrame.\n",
      "Try using .loc[row_indexer,col_indexer] = value instead\n",
      "\n",
      "See the caveats in the documentation: https://pandas.pydata.org/pandas-docs/stable/user_guide/indexing.html#returning-a-view-versus-a-copy\n",
      "  df['genre4'] = split_genres[2]\n",
      "C:\\Users\\daanv\\AppData\\Local\\Temp\\ipykernel_10120\\3941831681.py:6: SettingWithCopyWarning: \n",
      "A value is trying to be set on a copy of a slice from a DataFrame.\n",
      "Try using .loc[row_indexer,col_indexer] = value instead\n",
      "\n",
      "See the caveats in the documentation: https://pandas.pydata.org/pandas-docs/stable/user_guide/indexing.html#returning-a-view-versus-a-copy\n",
      "  df['genre5'] = split_genres[3]\n",
      "C:\\Users\\daanv\\AppData\\Local\\Temp\\ipykernel_10120\\3941831681.py:7: SettingWithCopyWarning: \n",
      "A value is trying to be set on a copy of a slice from a DataFrame.\n",
      "Try using .loc[row_indexer,col_indexer] = value instead\n",
      "\n",
      "See the caveats in the documentation: https://pandas.pydata.org/pandas-docs/stable/user_guide/indexing.html#returning-a-view-versus-a-copy\n",
      "  df['genre6'] = split_genres[4]\n",
      "C:\\Users\\daanv\\AppData\\Local\\Temp\\ipykernel_10120\\3941831681.py:8: SettingWithCopyWarning: \n",
      "A value is trying to be set on a copy of a slice from a DataFrame.\n",
      "Try using .loc[row_indexer,col_indexer] = value instead\n",
      "\n",
      "See the caveats in the documentation: https://pandas.pydata.org/pandas-docs/stable/user_guide/indexing.html#returning-a-view-versus-a-copy\n",
      "  df['genre7'] = split_genres[5]\n",
      "C:\\Users\\daanv\\AppData\\Local\\Temp\\ipykernel_10120\\3941831681.py:9: SettingWithCopyWarning: \n",
      "A value is trying to be set on a copy of a slice from a DataFrame.\n",
      "Try using .loc[row_indexer,col_indexer] = value instead\n",
      "\n",
      "See the caveats in the documentation: https://pandas.pydata.org/pandas-docs/stable/user_guide/indexing.html#returning-a-view-versus-a-copy\n",
      "  df['genre8'] = split_genres[6]\n",
      "C:\\Users\\daanv\\AppData\\Local\\Temp\\ipykernel_10120\\3941831681.py:10: SettingWithCopyWarning: \n",
      "A value is trying to be set on a copy of a slice from a DataFrame.\n",
      "Try using .loc[row_indexer,col_indexer] = value instead\n",
      "\n",
      "See the caveats in the documentation: https://pandas.pydata.org/pandas-docs/stable/user_guide/indexing.html#returning-a-view-versus-a-copy\n",
      "  df['genre9'] = split_genres[7]\n",
      "C:\\Users\\daanv\\AppData\\Local\\Temp\\ipykernel_10120\\3941831681.py:11: SettingWithCopyWarning: \n",
      "A value is trying to be set on a copy of a slice from a DataFrame.\n",
      "Try using .loc[row_indexer,col_indexer] = value instead\n",
      "\n",
      "See the caveats in the documentation: https://pandas.pydata.org/pandas-docs/stable/user_guide/indexing.html#returning-a-view-versus-a-copy\n",
      "  df['genre10'] = split_genres[8]\n",
      "C:\\Users\\daanv\\AppData\\Local\\Temp\\ipykernel_10120\\3941831681.py:12: SettingWithCopyWarning: \n",
      "A value is trying to be set on a copy of a slice from a DataFrame.\n",
      "Try using .loc[row_indexer,col_indexer] = value instead\n",
      "\n",
      "See the caveats in the documentation: https://pandas.pydata.org/pandas-docs/stable/user_guide/indexing.html#returning-a-view-versus-a-copy\n",
      "  df['genre11'] = split_genres[9]\n"
     ]
    },
    {
     "data": {
      "text/plain": [
       "(8125, 13)"
      ]
     },
     "execution_count": 171,
     "metadata": {},
     "output_type": "execute_result"
    }
   ],
   "source": [
    "# Split the 'genres' column by comma and create new columns for each genre\n",
    "split_genres = df['genre_x'].str.split(',', expand=True)\n",
    "df['genre2'] = split_genres[0]\n",
    "df['genre3'] = split_genres[1]\n",
    "df['genre4'] = split_genres[2]\n",
    "df['genre5'] = split_genres[3]\n",
    "df['genre6'] = split_genres[4]\n",
    "df['genre7'] = split_genres[5]\n",
    "df['genre8'] = split_genres[6]\n",
    "df['genre9'] = split_genres[7]\n",
    "df['genre10'] = split_genres[8]\n",
    "df['genre11'] = split_genres[9]"
   ]
  },
  {
   "cell_type": "markdown",
   "metadata": {},
   "source": [
    "Drop exploded column and rename column y"
   ]
  },
  {
   "cell_type": "code",
   "execution_count": 172,
   "metadata": {},
   "outputs": [],
   "source": [
    "df = df.drop(columns=['genre_x'])\n",
    "df = df.rename(columns={'genre_y': 'genre1'})"
   ]
  },
  {
   "cell_type": "markdown",
   "metadata": {},
   "source": [
    "Check and delete duplicate genres"
   ]
  },
  {
   "cell_type": "code",
   "execution_count": 173,
   "metadata": {},
   "outputs": [
    {
     "data": {
      "text/plain": [
       "(8125, 12)"
      ]
     },
     "execution_count": 173,
     "metadata": {},
     "output_type": "execute_result"
    }
   ],
   "source": [
    "columns_to_check = ['genre2', 'genre3', 'genre4', 'genre5', 'genre6', 'genre7', 'genre8', 'genre9', 'genre10']\n",
    "\n",
    "for index, row in df.iterrows():\n",
    "    genre1_value = row['genre1']\n",
    "    for col in columns_to_check:\n",
    "        if row[col] == genre1_value:\n",
    "            df.at[index, col] = None "
   ]
  },
  {
   "cell_type": "markdown",
   "metadata": {},
   "source": [
    "Check genre columns for unique columns, create a new dataframe including a column of unique genres and give them a primary key"
   ]
  },
  {
   "cell_type": "code",
   "execution_count": 175,
   "metadata": {},
   "outputs": [],
   "source": [
    "# Concatenate the 'genre' columns into a single Series\n",
    "genre_series = df[['genre1', 'genre2', 'genre3', 'genre4', 'genre5', 'genre6', 'genre7', 'genre8', 'genre9', 'genre10', 'genre11']].stack().reset_index(drop=True)\n",
    "\n",
    "# Get unique genre values and assign IDs\n",
    "unique_genres = genre_series.unique()\n",
    "genre_to_id = {genre: id for id, genre in enumerate(unique_genres)}\n",
    "\n",
    "# Create a DataFrame with genre IDs\n",
    "genre_id_df = pd.DataFrame({'Genre': unique_genres, 'Genre_ID': [genre_to_id[genre] for genre in unique_genres]})\n",
    "\n",
    "genre_id_df['Genre_ID'] = genre_id_df['Genre_ID'] + 1\n",
    "\n",
    "genre_id_df = genre_id_df[['Genre_ID', 'Genre']]\n"
   ]
  },
  {
   "cell_type": "markdown",
   "metadata": {},
   "source": [
    "Save file"
   ]
  },
  {
   "cell_type": "code",
   "execution_count": 177,
   "metadata": {},
   "outputs": [],
   "source": [
    "genre_id_df.to_csv('genre.csv')"
   ]
  },
  {
   "cell_type": "markdown",
   "metadata": {},
   "source": [
    "Take the datafame with the genres seperated in columns and combine the genre columns into one column"
   ]
  },
  {
   "cell_type": "code",
   "execution_count": 178,
   "metadata": {},
   "outputs": [],
   "source": [
    "# List of genre column names\n",
    "df = [f'genre{i}' for i in range(1, 12)]\n",
    "\n",
    "# Combine genre columns into a single column as a list\n",
    "df['Combined_Genres'] = df.apply(lambda row: [row[col] for col in genre_columns if pd.notna(row[col])], axis=1)\n",
    "\n",
    "# Drop the individual genre columns\n",
    "df.drop(columns=genre_columns, inplace=True)\n",
    "\n",
    "# Reset the index\n",
    "df.reset_index(drop=True, inplace=True)"
   ]
  },
  {
   "cell_type": "markdown",
   "metadata": {},
   "source": [
    "Explode the genres in multiple rows"
   ]
  },
  {
   "cell_type": "code",
   "execution_count": 179,
   "metadata": {},
   "outputs": [],
   "source": [
    "# Explode the 'Combined_Genres' column to create separate rows\n",
    "dfnew = genre_id_df.explode('Combined_Genres', ignore_index=True)\n",
    "\n",
    "# Reset the index\n",
    "dfnew.reset_index(drop=True, inplace=True)\n",
    "\n",
    "dfnew = dfnew.rename(columns={'Combined_Genres': 'Genre'})"
   ]
  },
  {
   "cell_type": "markdown",
   "metadata": {},
   "source": [
    "Merge the id's of the list of unique genres to the genres per row per movie"
   ]
  },
  {
   "cell_type": "code",
   "execution_count": 181,
   "metadata": {},
   "outputs": [],
   "source": [
    "# Perform a left merge to replace genre with genre_ID\n",
    "merged_df = dfnew.merge(genre_id_df, on='Genre', how='left')\n",
    "\n",
    "# Drop the original 'Genre' column and rename 'Genre_ID' to 'Genre'\n",
    "merged_df.drop(columns='Genre', inplace=True)\n",
    "merged_df.rename(columns={'Genre_ID': 'Genre'}, inplace=True)\n",
    "if 'Unnamed: 0_x' in merged_df.columns:\n",
    "    merged_df.drop(columns='Unnamed: 0_x', inplace=True)\n",
    "\n",
    "if 'Unnamed: 0_y' in merged_df.columns:\n",
    "    merged_df.drop(columns='Unnamed: 0_y', inplace=True)"
   ]
  },
  {
   "cell_type": "markdown",
   "metadata": {},
   "source": [
    "Add primary key, rearrange and save file"
   ]
  },
  {
   "cell_type": "code",
   "execution_count": 192,
   "metadata": {},
   "outputs": [],
   "source": [
    "merged_df['genre_rel_id'] = range(1, len(dfrel) + 1)\n",
    "merged_df = dfrel[['genre_rel_id', 'title', 'Genre']]\n",
    "merged_df.to_csv('genre_rel.csv')"
   ]
  }
 ],
 "metadata": {
  "kernelspec": {
   "display_name": "base",
   "language": "python",
   "name": "python3"
  },
  "language_info": {
   "codemirror_mode": {
    "name": "ipython",
    "version": 3
   },
   "file_extension": ".py",
   "mimetype": "text/x-python",
   "name": "python",
   "nbconvert_exporter": "python",
   "pygments_lexer": "ipython3",
   "version": "3.9.12"
  },
  "orig_nbformat": 4
 },
 "nbformat": 4,
 "nbformat_minor": 2
}
