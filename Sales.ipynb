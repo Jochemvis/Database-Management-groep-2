{
 "cells": [
  {
   "cell_type": "markdown",
   "metadata": {},
   "source": [
    "Imported: \n",
    "- the module/libary Pandas\n",
    "- excel file with sales data "
   ]
  },
  {
   "cell_type": "code",
   "execution_count": 11,
   "metadata": {},
   "outputs": [],
   "source": [
    "import pandas as pd"
   ]
  },
  {
   "cell_type": "code",
   "execution_count": 12,
   "metadata": {},
   "outputs": [],
   "source": [
    "df = pd.read_excel(\"sales.xlsx\")"
   ]
  },
  {
   "cell_type": "markdown",
   "metadata": {},
   "source": [
    "Dropping the columns that are not needed"
   ]
  },
  {
   "cell_type": "code",
   "execution_count": 14,
   "metadata": {},
   "outputs": [
    {
     "data": {
      "text/html": [
       "<div>\n",
       "<style scoped>\n",
       "    .dataframe tbody tr th:only-of-type {\n",
       "        vertical-align: middle;\n",
       "    }\n",
       "\n",
       "    .dataframe tbody tr th {\n",
       "        vertical-align: top;\n",
       "    }\n",
       "\n",
       "    .dataframe thead th {\n",
       "        text-align: right;\n",
       "    }\n",
       "</style>\n",
       "<table border=\"1\" class=\"dataframe\">\n",
       "  <thead>\n",
       "    <tr style=\"text-align: right;\">\n",
       "      <th></th>\n",
       "      <th>title</th>\n",
       "      <th>worldwide_box_office</th>\n",
       "      <th>production_budget</th>\n",
       "      <th>opening_weekend</th>\n",
       "      <th>theatre_count</th>\n",
       "      <th>url</th>\n",
       "    </tr>\n",
       "  </thead>\n",
       "  <tbody>\n",
       "    <tr>\n",
       "      <th>0</th>\n",
       "      <td>Bakha Satang</td>\n",
       "      <td>76576.0</td>\n",
       "      <td>NaN</td>\n",
       "      <td>NaN</td>\n",
       "      <td>NaN</td>\n",
       "      <td>https://www.the-numbers.com/movie/Bakha-Satang...</td>\n",
       "    </tr>\n",
       "    <tr>\n",
       "      <th>1</th>\n",
       "      <td>Antitrust</td>\n",
       "      <td>17865209.0</td>\n",
       "      <td>30000000.0</td>\n",
       "      <td>5486209.0</td>\n",
       "      <td>2433.0</td>\n",
       "      <td>https://www.the-numbers.com/movie/Antitrust</td>\n",
       "    </tr>\n",
       "    <tr>\n",
       "      <th>2</th>\n",
       "      <td>Santitos</td>\n",
       "      <td>NaN</td>\n",
       "      <td>NaN</td>\n",
       "      <td>NaN</td>\n",
       "      <td>NaN</td>\n",
       "      <td>https://www.the-numbers.com/movie/Santitos</td>\n",
       "    </tr>\n",
       "    <tr>\n",
       "      <th>3</th>\n",
       "      <td>Frank McKlusky C.I.</td>\n",
       "      <td>NaN</td>\n",
       "      <td>NaN</td>\n",
       "      <td>NaN</td>\n",
       "      <td>NaN</td>\n",
       "      <td>https://www.the-numbers.com/movie/Frank-McKlus...</td>\n",
       "    </tr>\n",
       "    <tr>\n",
       "      <th>4</th>\n",
       "      <td>A Walk to Remember</td>\n",
       "      <td>46060861.0</td>\n",
       "      <td>11000000.0</td>\n",
       "      <td>12177488.0</td>\n",
       "      <td>2411.0</td>\n",
       "      <td>https://www.the-numbers.com/movie/Walk-to-Reme...</td>\n",
       "    </tr>\n",
       "  </tbody>\n",
       "</table>\n",
       "</div>"
      ],
      "text/plain": [
       "                 title  worldwide_box_office  production_budget  \\\n",
       "0         Bakha Satang               76576.0                NaN   \n",
       "1            Antitrust            17865209.0         30000000.0   \n",
       "2             Santitos                   NaN                NaN   \n",
       "3  Frank McKlusky C.I.                   NaN                NaN   \n",
       "4   A Walk to Remember            46060861.0         11000000.0   \n",
       "\n",
       "   opening_weekend  theatre_count  \\\n",
       "0              NaN            NaN   \n",
       "1        5486209.0         2433.0   \n",
       "2              NaN            NaN   \n",
       "3              NaN            NaN   \n",
       "4       12177488.0         2411.0   \n",
       "\n",
       "                                                 url  \n",
       "0  https://www.the-numbers.com/movie/Bakha-Satang...  \n",
       "1        https://www.the-numbers.com/movie/Antitrust  \n",
       "2         https://www.the-numbers.com/movie/Santitos  \n",
       "3  https://www.the-numbers.com/movie/Frank-McKlus...  \n",
       "4  https://www.the-numbers.com/movie/Walk-to-Reme...  "
      ]
     },
     "execution_count": 14,
     "metadata": {},
     "output_type": "execute_result"
    }
   ],
   "source": [
    "df = df.drop(columns=[\"year\", \"release_date\", \"genre\", \"international_box_office\", \"domestic_box_office\", \"Unnamed: 8\", \"avg run per theatre\", \"runtime\", \"keywords\", \"creative_type\"])\n",
    "df.head()"
   ]
  },
  {
   "cell_type": "markdown",
   "metadata": {},
   "source": [
    "- Adding the column for the primary key: sales_id\n",
    "- Ordering the columns "
   ]
  },
  {
   "cell_type": "code",
   "execution_count": 15,
   "metadata": {},
   "outputs": [
    {
     "data": {
      "text/html": [
       "<div>\n",
       "<style scoped>\n",
       "    .dataframe tbody tr th:only-of-type {\n",
       "        vertical-align: middle;\n",
       "    }\n",
       "\n",
       "    .dataframe tbody tr th {\n",
       "        vertical-align: top;\n",
       "    }\n",
       "\n",
       "    .dataframe thead th {\n",
       "        text-align: right;\n",
       "    }\n",
       "</style>\n",
       "<table border=\"1\" class=\"dataframe\">\n",
       "  <thead>\n",
       "    <tr style=\"text-align: right;\">\n",
       "      <th></th>\n",
       "      <th>sales_id</th>\n",
       "      <th>title</th>\n",
       "      <th>url</th>\n",
       "      <th>worldwide_box_office</th>\n",
       "      <th>production_budget</th>\n",
       "      <th>opening_weekend</th>\n",
       "      <th>theatre_count</th>\n",
       "    </tr>\n",
       "  </thead>\n",
       "  <tbody>\n",
       "    <tr>\n",
       "      <th>0</th>\n",
       "      <td>1</td>\n",
       "      <td>Bakha Satang</td>\n",
       "      <td>https://www.the-numbers.com/movie/Bakha-Satang...</td>\n",
       "      <td>76576.0</td>\n",
       "      <td>NaN</td>\n",
       "      <td>NaN</td>\n",
       "      <td>NaN</td>\n",
       "    </tr>\n",
       "    <tr>\n",
       "      <th>1</th>\n",
       "      <td>2</td>\n",
       "      <td>Antitrust</td>\n",
       "      <td>https://www.the-numbers.com/movie/Antitrust</td>\n",
       "      <td>17865209.0</td>\n",
       "      <td>30000000.0</td>\n",
       "      <td>5486209.0</td>\n",
       "      <td>2433.0</td>\n",
       "    </tr>\n",
       "    <tr>\n",
       "      <th>2</th>\n",
       "      <td>3</td>\n",
       "      <td>Santitos</td>\n",
       "      <td>https://www.the-numbers.com/movie/Santitos</td>\n",
       "      <td>NaN</td>\n",
       "      <td>NaN</td>\n",
       "      <td>NaN</td>\n",
       "      <td>NaN</td>\n",
       "    </tr>\n",
       "    <tr>\n",
       "      <th>3</th>\n",
       "      <td>4</td>\n",
       "      <td>Frank McKlusky C.I.</td>\n",
       "      <td>https://www.the-numbers.com/movie/Frank-McKlus...</td>\n",
       "      <td>NaN</td>\n",
       "      <td>NaN</td>\n",
       "      <td>NaN</td>\n",
       "      <td>NaN</td>\n",
       "    </tr>\n",
       "    <tr>\n",
       "      <th>4</th>\n",
       "      <td>5</td>\n",
       "      <td>A Walk to Remember</td>\n",
       "      <td>https://www.the-numbers.com/movie/Walk-to-Reme...</td>\n",
       "      <td>46060861.0</td>\n",
       "      <td>11000000.0</td>\n",
       "      <td>12177488.0</td>\n",
       "      <td>2411.0</td>\n",
       "    </tr>\n",
       "  </tbody>\n",
       "</table>\n",
       "</div>"
      ],
      "text/plain": [
       "   sales_id                title  \\\n",
       "0         1         Bakha Satang   \n",
       "1         2            Antitrust   \n",
       "2         3             Santitos   \n",
       "3         4  Frank McKlusky C.I.   \n",
       "4         5   A Walk to Remember   \n",
       "\n",
       "                                                 url  worldwide_box_office  \\\n",
       "0  https://www.the-numbers.com/movie/Bakha-Satang...               76576.0   \n",
       "1        https://www.the-numbers.com/movie/Antitrust            17865209.0   \n",
       "2         https://www.the-numbers.com/movie/Santitos                   NaN   \n",
       "3  https://www.the-numbers.com/movie/Frank-McKlus...                   NaN   \n",
       "4  https://www.the-numbers.com/movie/Walk-to-Reme...            46060861.0   \n",
       "\n",
       "   production_budget  opening_weekend  theatre_count  \n",
       "0                NaN              NaN            NaN  \n",
       "1         30000000.0        5486209.0         2433.0  \n",
       "2                NaN              NaN            NaN  \n",
       "3                NaN              NaN            NaN  \n",
       "4         11000000.0       12177488.0         2411.0  "
      ]
     },
     "execution_count": 15,
     "metadata": {},
     "output_type": "execute_result"
    }
   ],
   "source": [
    "df[\"sales_id\"] = range(1, len(df) +1)\n",
    "df = df[['sales_id', 'title', 'url', 'worldwide_box_office', 'production_budget', 'opening_weekend', 'theatre_count']]\n",
    "df.head()"
   ]
  },
  {
   "cell_type": "markdown",
   "metadata": {},
   "source": [
    "Exporting the cleaned data into a csv file\n"
   ]
  },
  {
   "cell_type": "code",
   "execution_count": 16,
   "metadata": {},
   "outputs": [],
   "source": [
    "df.to_csv(\"sales_clean.csv\")"
   ]
  },
  {
   "cell_type": "markdown",
   "metadata": {},
   "source": [
    "Importing the clean version of the files"
   ]
  },
  {
   "cell_type": "code",
   "execution_count": 18,
   "metadata": {},
   "outputs": [],
   "source": [
    "df = pd.read_csv(\"sales_clean.csv\")\n",
    "df1 = pd.read_excel(\"movie_clean.xlsx\")"
   ]
  },
  {
   "cell_type": "markdown",
   "metadata": {},
   "source": [
    "- Merging the files by column: title\n",
    "- Removing duplicates \n",
    "- Adding column movie_ID"
   ]
  },
  {
   "cell_type": "code",
   "execution_count": 26,
   "metadata": {},
   "outputs": [
    {
     "data": {
      "text/plain": [
       "(29983, 8)"
      ]
     },
     "execution_count": 26,
     "metadata": {},
     "output_type": "execute_result"
    }
   ],
   "source": [
    "df = df.drop_duplicates(subset='title')\n",
    "df1 = df1.drop_duplicates(subset='title')\n",
    "merged_df = df.merge(df1[['title', 'movie_ID']], on='title', how='left')\n",
    "\n"
   ]
  },
  {
   "cell_type": "markdown",
   "metadata": {},
   "source": [
    "Exporting the merged file into a new csv file"
   ]
  },
  {
   "cell_type": "code",
   "execution_count": null,
   "metadata": {},
   "outputs": [],
   "source": [
    "merged_df.to_csv('sales_clean1.csv')\n",
    "merged_df.shape"
   ]
  }
 ],
 "metadata": {
  "kernelspec": {
   "display_name": "base",
   "language": "python",
   "name": "python3"
  },
  "language_info": {
   "codemirror_mode": {
    "name": "ipython",
    "version": 3
   },
   "file_extension": ".py",
   "mimetype": "text/x-python",
   "name": "python",
   "nbconvert_exporter": "python",
   "pygments_lexer": "ipython3",
   "version": "3.11.4"
  },
  "orig_nbformat": 4
 },
 "nbformat": 4,
 "nbformat_minor": 2
}
