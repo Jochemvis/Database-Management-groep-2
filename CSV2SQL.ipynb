{
 "cells": [
  {
   "cell_type": "markdown",
   "metadata": {},
   "source": [
    "Imports"
   ]
  },
  {
   "cell_type": "code",
   "execution_count": 8,
   "metadata": {},
   "outputs": [],
   "source": [
    "import pandas as pd\n",
    "import psycopg2\n",
    "from sqlalchemy import create_engine"
   ]
  },
  {
   "cell_type": "markdown",
   "metadata": {},
   "source": [
    "Database connection"
   ]
  },
  {
   "cell_type": "code",
   "execution_count": null,
   "metadata": {},
   "outputs": [],
   "source": [
    "# Database connection details\n",
    "db_host = \"localhost\"\n",
    "db_name = \"postgres\"\n",
    "db_user = \"Daan\"\n",
    "db_password = \"Daan\""
   ]
  },
  {
   "cell_type": "markdown",
   "metadata": {},
   "source": [
    "Table: movies"
   ]
  },
  {
   "cell_type": "code",
   "execution_count": 1,
   "metadata": {},
   "outputs": [],
   "source": [
    "# CSV file path\n",
    "csv_file = \"movies_cleaned_v2.csv\"\n",
    "\n",
    "# Create a PostgreSQL database connection\n",
    "connection = psycopg2.connect(\n",
    "    host=db_host,\n",
    "    database=db_name,\n",
    "    user=db_user,\n",
    "    password=db_password\n",
    ")\n",
    "\n",
    "# Create a SQLAlchemy engine\n",
    "engine = create_engine(f\"postgresql://{db_user}:{db_password}@{db_host}/{db_name}\")\n",
    "\n",
    "# Read the CSV file into a Pandas DataFrame\n",
    "df = pd.read_csv(csv_file)\n",
    "\n",
    "# Insert data into the PostgreSQL table\n",
    "df.to_sql('movies', engine, if_exists='replace', index=False)\n",
    "\n",
    "# Close the database connection\n",
    "connection.close()\n"
   ]
  },
  {
   "cell_type": "markdown",
   "metadata": {},
   "source": [
    "Table: user reviews"
   ]
  },
  {
   "cell_type": "code",
   "execution_count": 3,
   "metadata": {},
   "outputs": [],
   "source": [
    "# CSV file path\n",
    "csv_file = \"UR_clean.csv\"\n",
    "\n",
    "# Create a PostgreSQL database connection\n",
    "connection = psycopg2.connect(\n",
    "    host=db_host,\n",
    "    database=db_name,\n",
    "    user=db_user,\n",
    "    password=db_password\n",
    ")\n",
    "\n",
    "# Create a SQLAlchemy engine\n",
    "engine = create_engine(f\"postgresql://{db_user}:{db_password}@{db_host}/{db_name}\")\n",
    "\n",
    "# Read the CSV file into a Pandas DataFrame\n",
    "df = pd.read_csv(csv_file)\n",
    "\n",
    "# Insert data into the PostgreSQL table\n",
    "df.to_sql('user_reviews', engine, if_exists='replace', index=False)\n",
    "\n",
    "# Close the database connection\n",
    "connection.close()\n"
   ]
  },
  {
   "cell_type": "markdown",
   "metadata": {},
   "source": [
    "Table: sales"
   ]
  },
  {
   "cell_type": "code",
   "execution_count": 4,
   "metadata": {},
   "outputs": [],
   "source": [
    "# CSV file path\n",
    "csv_file = \"sales.csv\"\n",
    "\n",
    "# Create a PostgreSQL database connection\n",
    "connection = psycopg2.connect(\n",
    "    host=db_host,\n",
    "    database=db_name,\n",
    "    user=db_user,\n",
    "    password=db_password\n",
    ")\n",
    "\n",
    "# Create a SQLAlchemy engine\n",
    "engine = create_engine(f\"postgresql://{db_user}:{db_password}@{db_host}/{db_name}\")\n",
    "\n",
    "# Read the CSV file into a Pandas DataFrame\n",
    "df = pd.read_csv(csv_file)\n",
    "\n",
    "# Insert data into the PostgreSQL table\n",
    "df.to_sql('sales', engine, if_exists='replace', index=False)\n",
    "\n",
    "# Close the database connection\n",
    "connection.close()\n"
   ]
  },
  {
   "cell_type": "markdown",
   "metadata": {},
   "source": [
    "Table: genres"
   ]
  },
  {
   "cell_type": "code",
   "execution_count": 5,
   "metadata": {},
   "outputs": [],
   "source": [
    "# CSV file path\n",
    "csv_file = \"genre.csv\"\n",
    "\n",
    "# Create a PostgreSQL database connection\n",
    "connection = psycopg2.connect(\n",
    "    host=db_host,\n",
    "    database=db_name,\n",
    "    user=db_user,\n",
    "    password=db_password\n",
    ")\n",
    "\n",
    "# Create a SQLAlchemy engine\n",
    "engine = create_engine(f\"postgresql://{db_user}:{db_password}@{db_host}/{db_name}\")\n",
    "\n",
    "# Read the CSV file into a Pandas DataFrame\n",
    "df = pd.read_csv(csv_file)\n",
    "\n",
    "# Insert data into the PostgreSQL table\n",
    "df.to_sql('genre', engine, if_exists='replace', index=False)\n",
    "\n",
    "# Close the database connection\n",
    "connection.close()\n"
   ]
  },
  {
   "cell_type": "markdown",
   "metadata": {},
   "source": [
    "Table: genre relations"
   ]
  },
  {
   "cell_type": "code",
   "execution_count": 6,
   "metadata": {},
   "outputs": [],
   "source": [
    "# CSV file path\n",
    "csv_file = \"genre_rel.csv\"\n",
    "\n",
    "# Create a PostgreSQL database connection\n",
    "connection = psycopg2.connect(\n",
    "    host=db_host,\n",
    "    database=db_name,\n",
    "    user=db_user,\n",
    "    password=db_password\n",
    ")\n",
    "\n",
    "# Create a SQLAlchemy engine\n",
    "engine = create_engine(f\"postgresql://{db_user}:{db_password}@{db_host}/{db_name}\")\n",
    "\n",
    "# Read the CSV file into a Pandas DataFrame\n",
    "df = pd.read_csv(csv_file)\n",
    "\n",
    "# Insert data into the PostgreSQL table\n",
    "df.to_sql('genre_relation', engine, if_exists='replace', index=False)\n",
    "\n",
    "# Close the database connection\n",
    "connection.close()\n"
   ]
  },
  {
   "cell_type": "markdown",
   "metadata": {},
   "source": [
    "Table: expert reviews"
   ]
  },
  {
   "cell_type": "code",
   "execution_count": 7,
   "metadata": {},
   "outputs": [],
   "source": [
    "# CSV file path\n",
    "csv_file = \"Jelle_exper_review_movie_merged.csv\"\n",
    "\n",
    "# Create a PostgreSQL database connection\n",
    "connection = psycopg2.connect(\n",
    "    host=db_host,\n",
    "    database=db_name,\n",
    "    user=db_user,\n",
    "    password=db_password\n",
    ")\n",
    "\n",
    "# Create a SQLAlchemy engine\n",
    "engine = create_engine(f\"postgresql://{db_user}:{db_password}@{db_host}/{db_name}\")\n",
    "\n",
    "# Read the CSV file into a Pandas DataFrame\n",
    "df = pd.read_csv(csv_file)\n",
    "\n",
    "# Insert data into the PostgreSQL table\n",
    "df.to_sql('expert_reviews', engine, if_exists='replace', index=False)\n",
    "\n",
    "# Close the database connection\n",
    "connection.close()\n"
   ]
  }
 ],
 "metadata": {
  "kernelspec": {
   "display_name": "base",
   "language": "python",
   "name": "python3"
  },
  "language_info": {
   "codemirror_mode": {
    "name": "ipython",
    "version": 3
   },
   "file_extension": ".py",
   "mimetype": "text/x-python",
   "name": "python",
   "nbconvert_exporter": "python",
   "pygments_lexer": "ipython3",
   "version": "3.9.12"
  },
  "orig_nbformat": 4
 },
 "nbformat": 4,
 "nbformat_minor": 2
}
