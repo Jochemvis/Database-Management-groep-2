{
 "cells": [
  {
   "cell_type": "markdown",
   "metadata": {},
   "source": [
    "Imports"
   ]
  },
  {
   "cell_type": "code",
   "execution_count": 22,
   "metadata": {},
   "outputs": [],
   "source": [
    "import pandas as pd\n",
    "import psycopg2\n",
    "from sqlalchemy import create_engine"
   ]
  },
  {
   "cell_type": "markdown",
   "metadata": {},
   "source": [
    "Database connection"
   ]
  },
  {
   "cell_type": "code",
   "execution_count": 23,
   "metadata": {},
   "outputs": [],
   "source": [
    "# Database connection details\n",
    "db_host = \"localhost\"\n",
    "db_name = \"postgres\"\n",
    "db_user = \"Daan\"\n",
    "db_password = \"Daan\""
   ]
  },
  {
   "cell_type": "markdown",
   "metadata": {},
   "source": [
    "Create connection"
   ]
  },
  {
   "cell_type": "code",
   "execution_count": 24,
   "metadata": {},
   "outputs": [],
   "source": [
    "# Create a PostgreSQL database connection\n",
    "connection = psycopg2.connect(\n",
    "    host=db_host,\n",
    "    database=db_name,\n",
    "    user=db_user,\n",
    "    password=db_password\n",
    ")"
   ]
  },
  {
   "cell_type": "markdown",
   "metadata": {},
   "source": [
    "Delete all tables"
   ]
  },
  {
   "cell_type": "code",
   "execution_count": 25,
   "metadata": {},
   "outputs": [],
   "source": [
    "cursor = connection.cursor()\n",
    "\n",
    "# Get a list of all table names in the current schema\n",
    "cursor.execute(\"SELECT table_name FROM information_schema.tables WHERE table_schema = 'public'\")\n",
    "\n",
    "table_names = [table[0] for table in cursor.fetchall()]\n",
    "\n",
    "for table_name in table_names:\n",
    "    cursor.execute(f\"DROP TABLE IF EXISTS {table_name} CASCADE\")\n",
    "\n",
    "connection.commit()\n",
    "connection.close()"
   ]
  },
  {
   "cell_type": "markdown",
   "metadata": {},
   "source": [
    "Table: movies"
   ]
  },
  {
   "cell_type": "code",
   "execution_count": 26,
   "metadata": {},
   "outputs": [],
   "source": [
    "# CSV file path\n",
    "csv_file = \"movies_cleaned_v2.csv\"\n",
    "\n",
    "# Create a SQLAlchemy engine\n",
    "engine = create_engine(f\"postgresql://{db_user}:{db_password}@{db_host}/{db_name}\")\n",
    "\n",
    "# Read the CSV file into a Pandas DataFrame\n",
    "df = pd.read_csv(csv_file)\n",
    "\n",
    "# Set the first column as index\n",
    "df.set_index(df.columns[0], inplace=True)\n",
    "\n",
    "# Insert data into the PostgreSQL table\n",
    "df.to_sql('movies', engine, if_exists='replace', index=False)\n",
    "\n",
    "# Close the database connection\n",
    "connection.close()\n"
   ]
  },
  {
   "cell_type": "markdown",
   "metadata": {},
   "source": [
    "Table: user reviews"
   ]
  },
  {
   "cell_type": "code",
   "execution_count": 27,
   "metadata": {},
   "outputs": [],
   "source": [
    "# CSV file path\n",
    "csv_file = \"UR_clean.csv\"\n",
    "\n",
    "# Create a SQLAlchemy engine\n",
    "engine = create_engine(f\"postgresql://{db_user}:{db_password}@{db_host}/{db_name}\")\n",
    "\n",
    "# Read the CSV file into a Pandas DataFrame\n",
    "df = pd.read_csv(csv_file)\n",
    "\n",
    "# Set the first column as index\n",
    "df.set_index(df.columns[0], inplace=True)\n",
    "# Insert data into the PostgreSQL table\n",
    "df.to_sql('user_reviews', engine, if_exists='replace', index=False)\n",
    "\n",
    "# Close the database connection\n",
    "connection.close()\n"
   ]
  },
  {
   "cell_type": "markdown",
   "metadata": {},
   "source": [
    "Table: sales"
   ]
  },
  {
   "cell_type": "code",
   "execution_count": 28,
   "metadata": {},
   "outputs": [],
   "source": [
    "# CSV file path\n",
    "csv_file = \"sales.csv\"\n",
    "\n",
    "# Create a SQLAlchemy engine\n",
    "engine = create_engine(f\"postgresql://{db_user}:{db_password}@{db_host}/{db_name}\")\n",
    "\n",
    "# Read the CSV file into a Pandas DataFrame\n",
    "df = pd.read_csv(csv_file)\n",
    "\n",
    "# Set the first column as index\n",
    "df.set_index(df.columns[0], inplace=True)\n",
    "\n",
    "# Insert data into the PostgreSQL table\n",
    "df.to_sql('sales', engine, if_exists='replace', index=False)\n",
    "\n",
    "# Close the database connection\n",
    "connection.close()\n"
   ]
  },
  {
   "cell_type": "markdown",
   "metadata": {},
   "source": [
    "Table: genres"
   ]
  },
  {
   "cell_type": "code",
   "execution_count": 29,
   "metadata": {},
   "outputs": [],
   "source": [
    "# CSV file path\n",
    "csv_file = \"genre.csv\"\n",
    "\n",
    "# Create a SQLAlchemy engine\n",
    "engine = create_engine(f\"postgresql://{db_user}:{db_password}@{db_host}/{db_name}\")\n",
    "\n",
    "# Read the CSV file into a Pandas DataFrame\n",
    "df = pd.read_csv(csv_file)\n",
    "\n",
    "# Set the first column as index\n",
    "df.set_index(df.columns[0], inplace=True)\n",
    "\n",
    "# Insert data into the PostgreSQL table\n",
    "df.to_sql('genre', engine, if_exists='replace', index=False)\n",
    "\n",
    "# Close the database connection\n",
    "connection.close()\n"
   ]
  },
  {
   "cell_type": "markdown",
   "metadata": {},
   "source": [
    "Table: genre relations"
   ]
  },
  {
   "cell_type": "code",
   "execution_count": 30,
   "metadata": {},
   "outputs": [],
   "source": [
    "# CSV file path\n",
    "csv_file = \"genre_rel.csv\"\n",
    "\n",
    "# Create a SQLAlchemy engine\n",
    "engine = create_engine(f\"postgresql://{db_user}:{db_password}@{db_host}/{db_name}\")\n",
    "\n",
    "# Read the CSV file into a Pandas DataFrame\n",
    "df = pd.read_csv(csv_file)\n",
    "\n",
    "# Set the first column as index\n",
    "df.set_index(df.columns[0], inplace=True)\n",
    "\n",
    "# Insert data into the PostgreSQL table\n",
    "df.to_sql('genre_relation', engine, if_exists='replace', index=False)\n",
    "\n",
    "# Close the database connection\n",
    "connection.close()\n"
   ]
  },
  {
   "cell_type": "markdown",
   "metadata": {},
   "source": [
    "Table: expert reviews"
   ]
  },
  {
   "cell_type": "code",
   "execution_count": 31,
   "metadata": {},
   "outputs": [],
   "source": [
    "# CSV file path\n",
    "csv_file = \"Jelle_exper_review_movie_merged.csv\"\n",
    "\n",
    "# Create a SQLAlchemy engine\n",
    "engine = create_engine(f\"postgresql://{db_user}:{db_password}@{db_host}/{db_name}\")\n",
    "\n",
    "# Read the CSV file into a Pandas DataFrame\n",
    "df = pd.read_csv(csv_file)\n",
    "\n",
    "# Set the first column as index\n",
    "df.set_index(df.columns[0], inplace=True)\n",
    "\n",
    "# Insert data into the PostgreSQL table\n",
    "df.to_sql('expert_reviews', engine, if_exists='replace', index=False)\n",
    "\n",
    "# Close the database connection\n",
    "connection.close()\n"
   ]
  }
 ],
 "metadata": {
  "kernelspec": {
   "display_name": "base",
   "language": "python",
   "name": "python3"
  },
  "language_info": {
   "codemirror_mode": {
    "name": "ipython",
    "version": 3
   },
   "file_extension": ".py",
   "mimetype": "text/x-python",
   "name": "python",
   "nbconvert_exporter": "python",
   "pygments_lexer": "ipython3",
   "version": "3.9.12"
  },
  "orig_nbformat": 4
 },
 "nbformat": 4,
 "nbformat_minor": 2
}
